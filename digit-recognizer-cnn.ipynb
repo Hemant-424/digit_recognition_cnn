{
 "cells": [
  {
   "cell_type": "code",
   "execution_count": 1,
   "metadata": {
    "_cell_guid": "b1076dfc-b9ad-4769-8c92-a6c4dae69d19",
    "_uuid": "8f2839f25d086af736a60e9eeb907d3b93b6e0e5",
    "execution": {
     "iopub.execute_input": "2020-12-29T16:07:05.101260Z",
     "iopub.status.busy": "2020-12-29T16:07:05.100088Z",
     "iopub.status.idle": "2020-12-29T16:07:05.108452Z",
     "shell.execute_reply": "2020-12-29T16:07:05.107767Z"
    },
    "papermill": {
     "duration": 0.033884,
     "end_time": "2020-12-29T16:07:05.108584",
     "exception": false,
     "start_time": "2020-12-29T16:07:05.074700",
     "status": "completed"
    },
    "tags": []
   },
   "outputs": [
    {
     "name": "stdout",
     "output_type": "stream",
     "text": [
      "/kaggle/input/digit-recognizer/sample_submission.csv\n",
      "/kaggle/input/digit-recognizer/train.csv\n",
      "/kaggle/input/digit-recognizer/test.csv\n"
     ]
    }
   ],
   "source": [
    "# This Python 3 environment comes with many helpful analytics libraries installed\n",
    "# It is defined by the kaggle/python Docker image: https://github.com/kaggle/docker-python\n",
    "# For example, here's several helpful packages to load\n",
    "\n",
    "import numpy as np # linear algebra\n",
    "import pandas as pd # data processing, CSV file I/O (e.g. pd.read_csv)\n",
    "\n",
    "# Input data files are available in the read-only \"../input/\" directory\n",
    "# For example, running this (by clicking run or pressing Shift+Enter) will list all files under the input directory\n",
    "\n",
    "import os\n",
    "for dirname, _, filenames in os.walk('/kaggle/input'):\n",
    "    for filename in filenames:\n",
    "        print(os.path.join(dirname, filename))\n",
    "\n",
    "# You can write up to 20GB to the current directory (/kaggle/working/) that gets preserved as output when you create a version using \"Save & Run All\" \n",
    "# You can also write temporary files to /kaggle/temp/, but they won't be saved outside of the current session"
   ]
  },
  {
   "cell_type": "code",
   "execution_count": 2,
   "metadata": {
    "_cell_guid": "79c7e3d0-c299-4dcb-8224-4455121ee9b0",
    "_uuid": "d629ff2d2480ee46fbb7e2d37f6b5fab8052498a",
    "execution": {
     "iopub.execute_input": "2020-12-29T16:07:05.149041Z",
     "iopub.status.busy": "2020-12-29T16:07:05.148260Z",
     "iopub.status.idle": "2020-12-29T16:07:13.126085Z",
     "shell.execute_reply": "2020-12-29T16:07:13.125039Z"
    },
    "papermill": {
     "duration": 8.001116,
     "end_time": "2020-12-29T16:07:13.126234",
     "exception": false,
     "start_time": "2020-12-29T16:07:05.125118",
     "status": "completed"
    },
    "tags": []
   },
   "outputs": [],
   "source": [
    "train = pd.read_csv('/kaggle/input/digit-recognizer/train.csv')\n",
    "test = pd.read_csv('/kaggle/input/digit-recognizer/test.csv')"
   ]
  },
  {
   "cell_type": "code",
   "execution_count": 3,
   "metadata": {
    "execution": {
     "iopub.execute_input": "2020-12-29T16:07:13.164325Z",
     "iopub.status.busy": "2020-12-29T16:07:13.163572Z",
     "iopub.status.idle": "2020-12-29T16:07:18.627469Z",
     "shell.execute_reply": "2020-12-29T16:07:18.626526Z"
    },
    "papermill": {
     "duration": 5.485672,
     "end_time": "2020-12-29T16:07:18.627602",
     "exception": false,
     "start_time": "2020-12-29T16:07:13.141930",
     "status": "completed"
    },
    "tags": []
   },
   "outputs": [],
   "source": [
    "import tensorflow as tf\n",
    "from tensorflow.keras import layers\n",
    "from tensorflow.keras.preprocessing.image import ImageDataGenerator"
   ]
  },
  {
   "cell_type": "code",
   "execution_count": 4,
   "metadata": {
    "execution": {
     "iopub.execute_input": "2020-12-29T16:07:18.674746Z",
     "iopub.status.busy": "2020-12-29T16:07:18.673269Z",
     "iopub.status.idle": "2020-12-29T16:07:18.962352Z",
     "shell.execute_reply": "2020-12-29T16:07:18.961693Z"
    },
    "papermill": {
     "duration": 0.317997,
     "end_time": "2020-12-29T16:07:18.962476",
     "exception": false,
     "start_time": "2020-12-29T16:07:18.644479",
     "status": "completed"
    },
    "tags": []
   },
   "outputs": [],
   "source": [
    "x = np.array(train.drop('label', axis=1))/255\n",
    "y = np.array(train['label'])"
   ]
  },
  {
   "cell_type": "code",
   "execution_count": 5,
   "metadata": {
    "execution": {
     "iopub.execute_input": "2020-12-29T16:07:18.999594Z",
     "iopub.status.busy": "2020-12-29T16:07:18.998743Z",
     "iopub.status.idle": "2020-12-29T16:07:19.003159Z",
     "shell.execute_reply": "2020-12-29T16:07:19.002522Z"
    },
    "papermill": {
     "duration": 0.025245,
     "end_time": "2020-12-29T16:07:19.003273",
     "exception": false,
     "start_time": "2020-12-29T16:07:18.978028",
     "status": "completed"
    },
    "tags": []
   },
   "outputs": [],
   "source": [
    "x=x.reshape((-1,28,28,1))"
   ]
  },
  {
   "cell_type": "code",
   "execution_count": 6,
   "metadata": {
    "execution": {
     "iopub.execute_input": "2020-12-29T16:07:19.068591Z",
     "iopub.status.busy": "2020-12-29T16:07:19.066412Z",
     "iopub.status.idle": "2020-12-29T16:07:20.745142Z",
     "shell.execute_reply": "2020-12-29T16:07:20.744461Z"
    },
    "papermill": {
     "duration": 1.716675,
     "end_time": "2020-12-29T16:07:20.745271",
     "exception": false,
     "start_time": "2020-12-29T16:07:19.028596",
     "status": "completed"
    },
    "tags": []
   },
   "outputs": [],
   "source": [
    "from sklearn.model_selection import train_test_split\n",
    "\n",
    "x_train,x_test,y_train,y_test = train_test_split(x,y,test_size=0.2)"
   ]
  },
  {
   "cell_type": "code",
   "execution_count": 7,
   "metadata": {
    "execution": {
     "iopub.execute_input": "2020-12-29T16:07:20.784434Z",
     "iopub.status.busy": "2020-12-29T16:07:20.783502Z",
     "iopub.status.idle": "2020-12-29T16:07:20.787087Z",
     "shell.execute_reply": "2020-12-29T16:07:20.786489Z"
    },
    "papermill": {
     "duration": 0.025688,
     "end_time": "2020-12-29T16:07:20.787208",
     "exception": false,
     "start_time": "2020-12-29T16:07:20.761520",
     "status": "completed"
    },
    "tags": []
   },
   "outputs": [],
   "source": [
    "data_gen = ImageDataGenerator(\n",
    "            rotation_range=12,\n",
    "            width_shift_range=0.12,\n",
    "            height_shift_range=0.12,\n",
    "            shear_range=0.12,\n",
    "            validation_split=0.2,)"
   ]
  },
  {
   "cell_type": "code",
   "execution_count": 8,
   "metadata": {
    "execution": {
     "iopub.execute_input": "2020-12-29T16:07:20.826909Z",
     "iopub.status.busy": "2020-12-29T16:07:20.825661Z",
     "iopub.status.idle": "2020-12-29T16:07:20.867913Z",
     "shell.execute_reply": "2020-12-29T16:07:20.867279Z"
    },
    "papermill": {
     "duration": 0.06446,
     "end_time": "2020-12-29T16:07:20.868033",
     "exception": false,
     "start_time": "2020-12-29T16:07:20.803573",
     "status": "completed"
    },
    "tags": []
   },
   "outputs": [],
   "source": [
    "training_generator = data_gen.flow(x_train,y_train,batch_size=32,subset='training')\n",
    "validation_generator = data_gen.flow(x_test,y_test,batch_size=32,subset='validation')"
   ]
  },
  {
   "cell_type": "code",
   "execution_count": 9,
   "metadata": {
    "execution": {
     "iopub.execute_input": "2020-12-29T16:07:20.911002Z",
     "iopub.status.busy": "2020-12-29T16:07:20.910148Z",
     "iopub.status.idle": "2020-12-29T16:07:21.514709Z",
     "shell.execute_reply": "2020-12-29T16:07:21.515659Z"
    },
    "papermill": {
     "duration": 0.631405,
     "end_time": "2020-12-29T16:07:21.516043",
     "exception": false,
     "start_time": "2020-12-29T16:07:20.884638",
     "status": "completed"
    },
    "tags": []
   },
   "outputs": [
    {
     "data": {
      "image/png": "[encoded data removed]",
      "text/plain": [
       "<Figure size 720x360 with 6 Axes>"
      ]
     },
     "metadata": {
      "needs_background": "light"
     },
     "output_type": "display_data"
    }
   ],
   "source": [
    "import matplotlib.pyplot as plt\n",
    "\n",
    "plt.figure(figsize=(10,5))\n",
    "for i in range(6):\n",
    "    plt.subplot(2,3,i+1)\n",
    "    for x,y in training_generator:\n",
    "        plt.imshow((x[0]/255).reshape(28,28),cmap='gray')\n",
    "        plt.title('y={}'.format(y[0]))\n",
    "        plt.axis('off')\n",
    "        break\n",
    "plt.tight_layout()\n",
    "plt.show()"
   ]
  },
  {
   "cell_type": "markdown",
   "metadata": {
    "papermill": {
     "duration": 0.026589,
     "end_time": "2020-12-29T16:07:21.570704",
     "exception": false,
     "start_time": "2020-12-29T16:07:21.544115",
     "status": "completed"
    },
    "tags": []
   },
   "source": [
    "# Convolutional Neural Network"
   ]
  },
  {
   "cell_type": "code",
   "execution_count": 10,
   "metadata": {
    "execution": {
     "iopub.execute_input": "2020-12-29T16:07:21.636282Z",
     "iopub.status.busy": "2020-12-29T16:07:21.635143Z",
     "iopub.status.idle": "2020-12-29T16:07:25.079533Z",
     "shell.execute_reply": "2020-12-29T16:07:25.078486Z"
    },
    "papermill": {
     "duration": 3.481338,
     "end_time": "2020-12-29T16:07:25.079666",
     "exception": false,
     "start_time": "2020-12-29T16:07:21.598328",
     "status": "completed"
    },
    "tags": []
   },
   "outputs": [],
   "source": [
    "cnn = tf.keras.Sequential([\n",
    "    \n",
    "    layers.Conv2D(32,(3,3),input_shape=(28,28,1),padding='same',activation='relu'),\n",
    "    layers.BatchNormalization(),\n",
    "    layers.MaxPool2D(2,2),\n",
    "    layers.Dropout(0.3),\n",
    "    \n",
    "    layers.Conv2D(64,(3,3),activation='relu',padding='same'),\n",
    "    layers.BatchNormalization(),\n",
    "    layers.MaxPool2D(2,2),\n",
    "    layers.Dropout(0.3),\n",
    "    \n",
    "    layers.Conv2D(128,(3,3),activation='relu',padding='same'),\n",
    "    layers.BatchNormalization(),\n",
    "    layers.MaxPool2D(2,2),\n",
    "    layers.Dropout(0.3),\n",
    "    \n",
    "    layers.Conv2D(256,(3,3),activation='relu',padding='same'),\n",
    "    layers.BatchNormalization(),\n",
    "    layers.MaxPool2D(2,2),\n",
    "    layers.Dropout(0.5),\n",
    "    \n",
    "    layers.Flatten(),\n",
    "    layers.Dense(256,activation='relu'),\n",
    "    layers.BatchNormalization(),\n",
    "    layers.Dropout(0.5),\n",
    "    layers.Dense(10,activation='softmax')\n",
    "])"
   ]
  },
  {
   "cell_type": "code",
   "execution_count": 11,
   "metadata": {
    "execution": {
     "iopub.execute_input": "2020-12-29T16:07:25.131073Z",
     "iopub.status.busy": "2020-12-29T16:07:25.129754Z",
     "iopub.status.idle": "2020-12-29T16:07:25.137933Z",
     "shell.execute_reply": "2020-12-29T16:07:25.137351Z"
    },
    "papermill": {
     "duration": 0.040451,
     "end_time": "2020-12-29T16:07:25.138054",
     "exception": false,
     "start_time": "2020-12-29T16:07:25.097603",
     "status": "completed"
    },
    "tags": []
   },
   "outputs": [],
   "source": [
    "cnn.compile(optimizer='adam',\n",
    "            loss=tf.keras.losses.SparseCategoricalCrossentropy(from_logits=True),\n",
    "            metrics=['accuracy']\n",
    "           )"
   ]
  },
  {
   "cell_type": "code",
   "execution_count": 12,
   "metadata": {
    "execution": {
     "iopub.execute_input": "2020-12-29T16:07:25.180591Z",
     "iopub.status.busy": "2020-12-29T16:07:25.179897Z",
     "iopub.status.idle": "2020-12-29T16:32:31.522336Z",
     "shell.execute_reply": "2020-12-29T16:32:31.521569Z"
    },
    "papermill": {
     "duration": 1506.366405,
     "end_time": "2020-12-29T16:32:31.522481",
     "exception": false,
     "start_time": "2020-12-29T16:07:25.156076",
     "status": "completed"
    },
    "tags": []
   },
   "outputs": [
    {
     "name": "stdout",
     "output_type": "stream",
     "text": [
      "Epoch 1/100\n",
      "840/840 [==============================] - 14s 17ms/step - loss: 1.7449 - accuracy: 0.7235 - val_loss: 1.5320 - val_accuracy: 0.9345\n",
      "Epoch 2/100\n",
      "840/840 [==============================] - 15s 18ms/step - loss: 1.5493 - accuracy: 0.9174 - val_loss: 1.4894 - val_accuracy: 0.9732\n",
      "Epoch 3/100\n",
      "840/840 [==============================] - 14s 17ms/step - loss: 1.5295 - accuracy: 0.9347 - val_loss: 1.4858 - val_accuracy: 0.9756\n",
      "Epoch 4/100\n",
      "840/840 [==============================] - 15s 18ms/step - loss: 1.5187 - accuracy: 0.9453 - val_loss: 1.4804 - val_accuracy: 0.9798\n",
      "Epoch 5/100\n",
      "840/840 [==============================] - 13s 16ms/step - loss: 1.5121 - accuracy: 0.9506 - val_loss: 1.4855 - val_accuracy: 0.9750\n",
      "Epoch 6/100\n",
      "840/840 [==============================] - 13s 16ms/step - loss: 1.5090 - accuracy: 0.9537 - val_loss: 1.4807 - val_accuracy: 0.9804\n",
      "Epoch 7/100\n",
      "840/840 [==============================] - 16s 19ms/step - loss: 1.5037 - accuracy: 0.9587 - val_loss: 1.4803 - val_accuracy: 0.9810\n",
      "Epoch 8/100\n",
      "840/840 [==============================] - 13s 16ms/step - loss: 1.5024 - accuracy: 0.9594 - val_loss: 1.4782 - val_accuracy: 0.9827\n",
      "Epoch 9/100\n",
      "840/840 [==============================] - 15s 18ms/step - loss: 1.5022 - accuracy: 0.9594 - val_loss: 1.4764 - val_accuracy: 0.9857\n",
      "Epoch 10/100\n",
      "840/840 [==============================] - 14s 16ms/step - loss: 1.5022 - accuracy: 0.9594 - val_loss: 1.4737 - val_accuracy: 0.9881\n",
      "Epoch 11/100\n",
      "840/840 [==============================] - 16s 19ms/step - loss: 1.4981 - accuracy: 0.9638 - val_loss: 1.4762 - val_accuracy: 0.9857\n",
      "Epoch 12/100\n",
      "840/840 [==============================] - 13s 16ms/step - loss: 1.5000 - accuracy: 0.9619 - val_loss: 1.4731 - val_accuracy: 0.9893\n",
      "Epoch 13/100\n",
      "840/840 [==============================] - 15s 18ms/step - loss: 1.4976 - accuracy: 0.9637 - val_loss: 1.4790 - val_accuracy: 0.9821\n",
      "Epoch 14/100\n",
      "840/840 [==============================] - 13s 16ms/step - loss: 1.4973 - accuracy: 0.9638 - val_loss: 1.4763 - val_accuracy: 0.9857\n",
      "Epoch 15/100\n",
      "840/840 [==============================] - 15s 17ms/step - loss: 1.4964 - accuracy: 0.9657 - val_loss: 1.4777 - val_accuracy: 0.9827\n",
      "Epoch 16/100\n",
      "840/840 [==============================] - 15s 18ms/step - loss: 1.4947 - accuracy: 0.9668 - val_loss: 1.4752 - val_accuracy: 0.9863\n",
      "Epoch 17/100\n",
      "840/840 [==============================] - 13s 16ms/step - loss: 1.4931 - accuracy: 0.9686 - val_loss: 1.4722 - val_accuracy: 0.9887\n",
      "Epoch 18/100\n",
      "840/840 [==============================] - 15s 18ms/step - loss: 1.4929 - accuracy: 0.9685 - val_loss: 1.4723 - val_accuracy: 0.9893\n",
      "Epoch 19/100\n",
      "840/840 [==============================] - 15s 18ms/step - loss: 1.4944 - accuracy: 0.9667 - val_loss: 1.4753 - val_accuracy: 0.9857\n",
      "Epoch 20/100\n",
      "840/840 [==============================] - 16s 19ms/step - loss: 1.4933 - accuracy: 0.9680 - val_loss: 1.4739 - val_accuracy: 0.9875\n",
      "Epoch 21/100\n",
      "840/840 [==============================] - 13s 16ms/step - loss: 1.4915 - accuracy: 0.9698 - val_loss: 1.4759 - val_accuracy: 0.9845\n",
      "Epoch 22/100\n",
      "840/840 [==============================] - 15s 18ms/step - loss: 1.4910 - accuracy: 0.9703 - val_loss: 1.4715 - val_accuracy: 0.9899\n",
      "Epoch 23/100\n",
      "840/840 [==============================] - 16s 19ms/step - loss: 1.4916 - accuracy: 0.9698 - val_loss: 1.4730 - val_accuracy: 0.9881\n",
      "Epoch 24/100\n",
      "840/840 [==============================] - 14s 16ms/step - loss: 1.4896 - accuracy: 0.9716 - val_loss: 1.4754 - val_accuracy: 0.9857\n",
      "Epoch 25/100\n",
      "840/840 [==============================] - 16s 19ms/step - loss: 1.4907 - accuracy: 0.9704 - val_loss: 1.4723 - val_accuracy: 0.9887\n",
      "Epoch 26/100\n",
      "840/840 [==============================] - 14s 17ms/step - loss: 1.4889 - accuracy: 0.9723 - val_loss: 1.4741 - val_accuracy: 0.9869\n",
      "Epoch 27/100\n",
      "840/840 [==============================] - 18s 21ms/step - loss: 1.4909 - accuracy: 0.9702 - val_loss: 1.4736 - val_accuracy: 0.9881\n",
      "Epoch 28/100\n",
      "840/840 [==============================] - 13s 16ms/step - loss: 1.4886 - accuracy: 0.9728 - val_loss: 1.4710 - val_accuracy: 0.9899\n",
      "Epoch 29/100\n",
      "840/840 [==============================] - 15s 18ms/step - loss: 1.4915 - accuracy: 0.9697 - val_loss: 1.4736 - val_accuracy: 0.9875\n",
      "Epoch 30/100\n",
      "840/840 [==============================] - 15s 18ms/step - loss: 1.4883 - accuracy: 0.9729 - val_loss: 1.4693 - val_accuracy: 0.9923\n",
      "Epoch 31/100\n",
      "840/840 [==============================] - 16s 18ms/step - loss: 1.4887 - accuracy: 0.9724 - val_loss: 1.4716 - val_accuracy: 0.9899\n",
      "Epoch 32/100\n",
      "840/840 [==============================] - 16s 19ms/step - loss: 1.4891 - accuracy: 0.9722 - val_loss: 1.4720 - val_accuracy: 0.9893\n",
      "Epoch 33/100\n",
      "840/840 [==============================] - 15s 18ms/step - loss: 1.4872 - accuracy: 0.9742 - val_loss: 1.4689 - val_accuracy: 0.9923\n",
      "Epoch 34/100\n",
      "840/840 [==============================] - 16s 19ms/step - loss: 1.4863 - accuracy: 0.9750 - val_loss: 1.4708 - val_accuracy: 0.9905\n",
      "Epoch 35/100\n",
      "840/840 [==============================] - 16s 19ms/step - loss: 1.4872 - accuracy: 0.9737 - val_loss: 1.4733 - val_accuracy: 0.9881\n",
      "Epoch 36/100\n",
      "840/840 [==============================] - 14s 16ms/step - loss: 1.4874 - accuracy: 0.9737 - val_loss: 1.4727 - val_accuracy: 0.9893\n",
      "Epoch 37/100\n",
      "840/840 [==============================] - 17s 20ms/step - loss: 1.4865 - accuracy: 0.9748 - val_loss: 1.4732 - val_accuracy: 0.9887\n",
      "Epoch 38/100\n",
      "840/840 [==============================] - 14s 16ms/step - loss: 1.4891 - accuracy: 0.9717 - val_loss: 1.4727 - val_accuracy: 0.9887\n",
      "Epoch 39/100\n",
      "840/840 [==============================] - 17s 21ms/step - loss: 1.4872 - accuracy: 0.9740 - val_loss: 1.4715 - val_accuracy: 0.9893\n",
      "Epoch 40/100\n",
      "840/840 [==============================] - 14s 17ms/step - loss: 1.4858 - accuracy: 0.9754 - val_loss: 1.4719 - val_accuracy: 0.9881\n",
      "Epoch 41/100\n",
      "840/840 [==============================] - 13s 16ms/step - loss: 1.4855 - accuracy: 0.9760 - val_loss: 1.4690 - val_accuracy: 0.9923\n",
      "Epoch 42/100\n",
      "840/840 [==============================] - 14s 17ms/step - loss: 1.4860 - accuracy: 0.9751 - val_loss: 1.4709 - val_accuracy: 0.9911\n",
      "Epoch 43/100\n",
      "840/840 [==============================] - 15s 18ms/step - loss: 1.4862 - accuracy: 0.9747 - val_loss: 1.4698 - val_accuracy: 0.9917\n",
      "Epoch 44/100\n",
      "840/840 [==============================] - 17s 20ms/step - loss: 1.4871 - accuracy: 0.9738 - val_loss: 1.4734 - val_accuracy: 0.9881\n",
      "Epoch 45/100\n",
      "840/840 [==============================] - 13s 16ms/step - loss: 1.4872 - accuracy: 0.9740 - val_loss: 1.4712 - val_accuracy: 0.9899\n",
      "Epoch 46/100\n",
      "840/840 [==============================] - 14s 17ms/step - loss: 1.4859 - accuracy: 0.9752 - val_loss: 1.4710 - val_accuracy: 0.9899\n",
      "Epoch 47/100\n",
      "840/840 [==============================] - 15s 18ms/step - loss: 1.4863 - accuracy: 0.9748 - val_loss: 1.4709 - val_accuracy: 0.9905\n",
      "Epoch 48/100\n",
      "840/840 [==============================] - 17s 20ms/step - loss: 1.4847 - accuracy: 0.9765 - val_loss: 1.4708 - val_accuracy: 0.9899\n",
      "Epoch 49/100\n",
      "840/840 [==============================] - 14s 17ms/step - loss: 1.4855 - accuracy: 0.9754 - val_loss: 1.4717 - val_accuracy: 0.9893\n",
      "Epoch 50/100\n",
      "840/840 [==============================] - 14s 17ms/step - loss: 1.4845 - accuracy: 0.9768 - val_loss: 1.4706 - val_accuracy: 0.9905\n",
      "Epoch 51/100\n",
      "840/840 [==============================] - 15s 18ms/step - loss: 1.4851 - accuracy: 0.9761 - val_loss: 1.4691 - val_accuracy: 0.9923\n",
      "Epoch 52/100\n",
      "840/840 [==============================] - 13s 16ms/step - loss: 1.4841 - accuracy: 0.9772 - val_loss: 1.4692 - val_accuracy: 0.9917\n",
      "Epoch 53/100\n",
      "840/840 [==============================] - 18s 21ms/step - loss: 1.4849 - accuracy: 0.9763 - val_loss: 1.4696 - val_accuracy: 0.9917\n",
      "Epoch 54/100\n",
      "840/840 [==============================] - 14s 16ms/step - loss: 1.4839 - accuracy: 0.9772 - val_loss: 1.4698 - val_accuracy: 0.9917\n",
      "Epoch 55/100\n",
      "840/840 [==============================] - 15s 18ms/step - loss: 1.4848 - accuracy: 0.9761 - val_loss: 1.4705 - val_accuracy: 0.9905\n",
      "Epoch 56/100\n",
      "840/840 [==============================] - 14s 16ms/step - loss: 1.4833 - accuracy: 0.9777 - val_loss: 1.4708 - val_accuracy: 0.9899\n",
      "Epoch 57/100\n",
      "840/840 [==============================] - 15s 17ms/step - loss: 1.4843 - accuracy: 0.9769 - val_loss: 1.4677 - val_accuracy: 0.9935\n",
      "Epoch 58/100\n",
      "840/840 [==============================] - 17s 20ms/step - loss: 1.4843 - accuracy: 0.9767 - val_loss: 1.4710 - val_accuracy: 0.9899\n",
      "Epoch 59/100\n",
      "840/840 [==============================] - 16s 19ms/step - loss: 1.4836 - accuracy: 0.9775 - val_loss: 1.4691 - val_accuracy: 0.9923\n",
      "Epoch 60/100\n",
      "840/840 [==============================] - 13s 16ms/step - loss: 1.4851 - accuracy: 0.9761 - val_loss: 1.4687 - val_accuracy: 0.9929\n",
      "Epoch 61/100\n",
      "840/840 [==============================] - 14s 17ms/step - loss: 1.4843 - accuracy: 0.9767 - val_loss: 1.4697 - val_accuracy: 0.9911\n",
      "Epoch 62/100\n",
      "840/840 [==============================] - 15s 18ms/step - loss: 1.4838 - accuracy: 0.9774 - val_loss: 1.4709 - val_accuracy: 0.9905\n",
      "Epoch 63/100\n",
      "840/840 [==============================] - 18s 22ms/step - loss: 1.4838 - accuracy: 0.9774 - val_loss: 1.4696 - val_accuracy: 0.9911\n",
      "Epoch 64/100\n",
      "840/840 [==============================] - 14s 16ms/step - loss: 1.4837 - accuracy: 0.9774 - val_loss: 1.4702 - val_accuracy: 0.9911\n",
      "Epoch 65/100\n",
      "840/840 [==============================] - 14s 17ms/step - loss: 1.4839 - accuracy: 0.9770 - val_loss: 1.4707 - val_accuracy: 0.9905\n",
      "Epoch 66/100\n",
      "840/840 [==============================] - 13s 16ms/step - loss: 1.4850 - accuracy: 0.9761 - val_loss: 1.4698 - val_accuracy: 0.9911\n",
      "Epoch 67/100\n",
      "840/840 [==============================] - 19s 23ms/step - loss: 1.4837 - accuracy: 0.9774 - val_loss: 1.4686 - val_accuracy: 0.9929\n",
      "Epoch 68/100\n",
      "840/840 [==============================] - 15s 17ms/step - loss: 1.4845 - accuracy: 0.9766 - val_loss: 1.4678 - val_accuracy: 0.9935\n",
      "Epoch 69/100\n",
      "840/840 [==============================] - 13s 16ms/step - loss: 1.4845 - accuracy: 0.9767 - val_loss: 1.4724 - val_accuracy: 0.9881\n",
      "Epoch 70/100\n",
      "840/840 [==============================] - 15s 18ms/step - loss: 1.4834 - accuracy: 0.9777 - val_loss: 1.4729 - val_accuracy: 0.9881\n",
      "Epoch 71/100\n",
      "840/840 [==============================] - 15s 18ms/step - loss: 1.4839 - accuracy: 0.9772 - val_loss: 1.4713 - val_accuracy: 0.9899\n",
      "Epoch 72/100\n",
      "840/840 [==============================] - 20s 24ms/step - loss: 1.4835 - accuracy: 0.9776 - val_loss: 1.4689 - val_accuracy: 0.9929\n",
      "Epoch 73/100\n",
      "840/840 [==============================] - 14s 16ms/step - loss: 1.4827 - accuracy: 0.9783 - val_loss: 1.4722 - val_accuracy: 0.9899\n",
      "Epoch 74/100\n",
      "840/840 [==============================] - 15s 18ms/step - loss: 1.4839 - accuracy: 0.9771 - val_loss: 1.4714 - val_accuracy: 0.9899\n",
      "Epoch 75/100\n",
      "840/840 [==============================] - 15s 17ms/step - loss: 1.4844 - accuracy: 0.9766 - val_loss: 1.4696 - val_accuracy: 0.9917\n",
      "Epoch 76/100\n",
      "840/840 [==============================] - 14s 17ms/step - loss: 1.4836 - accuracy: 0.9775 - val_loss: 1.4724 - val_accuracy: 0.9887\n",
      "Epoch 77/100\n",
      "840/840 [==============================] - 20s 23ms/step - loss: 1.4840 - accuracy: 0.9771 - val_loss: 1.4689 - val_accuracy: 0.9917\n",
      "Epoch 78/100\n",
      "840/840 [==============================] - 15s 18ms/step - loss: 1.4837 - accuracy: 0.9772 - val_loss: 1.4690 - val_accuracy: 0.9923\n",
      "Epoch 79/100\n",
      "840/840 [==============================] - 14s 16ms/step - loss: 1.4824 - accuracy: 0.9786 - val_loss: 1.4684 - val_accuracy: 0.9929\n",
      "Epoch 80/100\n",
      "840/840 [==============================] - 14s 17ms/step - loss: 1.4824 - accuracy: 0.9789 - val_loss: 1.4702 - val_accuracy: 0.9911\n",
      "Epoch 81/100\n",
      "840/840 [==============================] - 14s 16ms/step - loss: 1.4839 - accuracy: 0.9771 - val_loss: 1.4703 - val_accuracy: 0.9905\n",
      "Epoch 82/100\n",
      "840/840 [==============================] - 15s 18ms/step - loss: 1.4840 - accuracy: 0.9768 - val_loss: 1.4714 - val_accuracy: 0.9905\n",
      "Epoch 83/100\n",
      "840/840 [==============================] - 15s 18ms/step - loss: 1.4825 - accuracy: 0.9786 - val_loss: 1.4704 - val_accuracy: 0.9905\n",
      "Epoch 84/100\n",
      "840/840 [==============================] - 13s 16ms/step - loss: 1.4826 - accuracy: 0.9786 - val_loss: 1.4719 - val_accuracy: 0.9893\n",
      "Epoch 85/100\n",
      "840/840 [==============================] - 14s 17ms/step - loss: 1.4837 - accuracy: 0.9771 - val_loss: 1.4690 - val_accuracy: 0.9923\n",
      "Epoch 86/100\n",
      "840/840 [==============================] - 20s 24ms/step - loss: 1.4827 - accuracy: 0.9782 - val_loss: 1.4692 - val_accuracy: 0.9917\n",
      "Epoch 87/100\n",
      "840/840 [==============================] - 15s 18ms/step - loss: 1.4818 - accuracy: 0.9793 - val_loss: 1.4702 - val_accuracy: 0.9911\n",
      "Epoch 88/100\n",
      "840/840 [==============================] - 14s 16ms/step - loss: 1.4829 - accuracy: 0.9784 - val_loss: 1.4716 - val_accuracy: 0.9887\n",
      "Epoch 89/100\n",
      "840/840 [==============================] - 14s 17ms/step - loss: 1.4827 - accuracy: 0.9781 - val_loss: 1.4682 - val_accuracy: 0.9929\n",
      "Epoch 90/100\n",
      "840/840 [==============================] - 14s 17ms/step - loss: 1.4837 - accuracy: 0.9775 - val_loss: 1.4734 - val_accuracy: 0.9875\n",
      "Epoch 91/100\n",
      "840/840 [==============================] - 15s 18ms/step - loss: 1.4823 - accuracy: 0.9789 - val_loss: 1.4684 - val_accuracy: 0.9929\n",
      "Epoch 92/100\n",
      "840/840 [==============================] - 14s 16ms/step - loss: 1.4822 - accuracy: 0.9789 - val_loss: 1.4715 - val_accuracy: 0.9893\n",
      "Epoch 93/100\n",
      "840/840 [==============================] - 14s 16ms/step - loss: 1.4815 - accuracy: 0.9795 - val_loss: 1.4692 - val_accuracy: 0.9917\n",
      "Epoch 94/100\n",
      "840/840 [==============================] - 15s 18ms/step - loss: 1.4823 - accuracy: 0.9789 - val_loss: 1.4694 - val_accuracy: 0.9917\n",
      "Epoch 95/100\n",
      "840/840 [==============================] - 18s 22ms/step - loss: 1.4827 - accuracy: 0.9784 - val_loss: 1.4674 - val_accuracy: 0.9940\n",
      "Epoch 96/100\n",
      "840/840 [==============================] - 17s 20ms/step - loss: 1.4827 - accuracy: 0.9782 - val_loss: 1.4701 - val_accuracy: 0.9911\n",
      "Epoch 97/100\n",
      "840/840 [==============================] - 14s 16ms/step - loss: 1.4823 - accuracy: 0.9788 - val_loss: 1.4686 - val_accuracy: 0.9923\n",
      "Epoch 98/100\n",
      "840/840 [==============================] - 15s 18ms/step - loss: 1.4814 - accuracy: 0.9796 - val_loss: 1.4716 - val_accuracy: 0.9893\n",
      "Epoch 99/100\n",
      "840/840 [==============================] - 14s 17ms/step - loss: 1.4824 - accuracy: 0.9788 - val_loss: 1.4707 - val_accuracy: 0.9905\n",
      "Epoch 100/100\n",
      "840/840 [==============================] - 14s 17ms/step - loss: 1.4824 - accuracy: 0.9787 - val_loss: 1.4702 - val_accuracy: 0.9911\n"
     ]
    }
   ],
   "source": [
    "history_cnn = cnn.fit_generator(training_generator,epochs=100,validation_data=validation_generator)"
   ]
  },
  {
   "cell_type": "code",
   "execution_count": 13,
   "metadata": {
    "execution": {
     "iopub.execute_input": "2020-12-29T16:32:51.143248Z",
     "iopub.status.busy": "2020-12-29T16:32:51.133923Z",
     "iopub.status.idle": "2020-12-29T16:32:51.318531Z",
     "shell.execute_reply": "2020-12-29T16:32:51.319116Z"
    },
    "papermill": {
     "duration": 9.991549,
     "end_time": "2020-12-29T16:32:51.319261",
     "exception": false,
     "start_time": "2020-12-29T16:32:41.327712",
     "status": "completed"
    },
    "tags": []
   },
   "outputs": [
    {
     "data": {
      "text/plain": [
       "[<matplotlib.lines.Line2D at 0x7f2017a60710>]"
      ]
     },
     "execution_count": 13,
     "metadata": {},
     "output_type": "execute_result"
    },
    {
     "data": {
      "image/png": "[encoded data removed]",
      "text/plain": [
       "<Figure size 432x288 with 1 Axes>"
      ]
     },
     "metadata": {
      "needs_background": "light"
     },
     "output_type": "display_data"
    }
   ],
   "source": [
    "plt.plot(history_cnn.history['accuracy'])\n",
    "plt.plot(history_cnn.history['val_accuracy'])"
   ]
  },
  {
   "cell_type": "code",
   "execution_count": 14,
   "metadata": {
    "execution": {
     "iopub.execute_input": "2020-12-29T16:33:12.352145Z",
     "iopub.status.busy": "2020-12-29T16:33:12.345387Z",
     "iopub.status.idle": "2020-12-29T16:33:12.514126Z",
     "shell.execute_reply": "2020-12-29T16:33:12.514724Z"
    },
    "papermill": {
     "duration": 10.149867,
     "end_time": "2020-12-29T16:33:12.514925",
     "exception": false,
     "start_time": "2020-12-29T16:33:02.365058",
     "status": "completed"
    },
    "tags": []
   },
   "outputs": [
    {
     "data": {
      "text/plain": [
       "[<matplotlib.lines.Line2D at 0x7f20179d3e50>]"
      ]
     },
     "execution_count": 14,
     "metadata": {},
     "output_type": "execute_result"
    },
    {
     "data": {
      "image/png": "[encoded data removed]",
      "text/plain": [
       "<Figure size 432x288 with 1 Axes>"
      ]
     },
     "metadata": {
      "needs_background": "light"
     },
     "output_type": "display_data"
    }
   ],
   "source": [
    "plt.plot(history_cnn.history['loss'])\n",
    "plt.plot(history_cnn.history['val_loss'])"
   ]
  },
  {
   "cell_type": "code",
   "execution_count": 15,
   "metadata": {
    "execution": {
     "iopub.execute_input": "2020-12-29T16:33:31.805343Z",
     "iopub.status.busy": "2020-12-29T16:33:31.803930Z",
     "iopub.status.idle": "2020-12-29T16:33:33.136755Z",
     "shell.execute_reply": "2020-12-29T16:33:33.136183Z"
    },
    "papermill": {
     "duration": 10.771644,
     "end_time": "2020-12-29T16:33:33.136895",
     "exception": false,
     "start_time": "2020-12-29T16:33:22.365251",
     "status": "completed"
    },
    "tags": []
   },
   "outputs": [
    {
     "name": "stdout",
     "output_type": "stream",
     "text": [
      "263/263 [==============================] - 1s 4ms/step - loss: 1.4678 - accuracy: 0.9933\n"
     ]
    },
    {
     "data": {
      "text/plain": [
       "[1.46776282787323, 0.9933333396911621]"
      ]
     },
     "execution_count": 15,
     "metadata": {},
     "output_type": "execute_result"
    }
   ],
   "source": [
    "cnn.evaluate( x_test, y_test)"
   ]
  },
  {
   "cell_type": "code",
   "execution_count": 16,
   "metadata": {
    "execution": {
     "iopub.execute_input": "2020-12-29T16:33:53.099896Z",
     "iopub.status.busy": "2020-12-29T16:33:53.098855Z",
     "iopub.status.idle": "2020-12-29T16:33:53.170166Z",
     "shell.execute_reply": "2020-12-29T16:33:53.169536Z"
    },
    "papermill": {
     "duration": 9.784927,
     "end_time": "2020-12-29T16:33:53.170297",
     "exception": false,
     "start_time": "2020-12-29T16:33:43.385370",
     "status": "completed"
    },
    "tags": []
   },
   "outputs": [],
   "source": [
    "pred_test_data = np.array(test).reshape((-1,28,28,1))"
   ]
  },
  {
   "cell_type": "code",
   "execution_count": 17,
   "metadata": {
    "execution": {
     "iopub.execute_input": "2020-12-29T16:34:14.861928Z",
     "iopub.status.busy": "2020-12-29T16:34:14.860616Z",
     "iopub.status.idle": "2020-12-29T16:34:16.519567Z",
     "shell.execute_reply": "2020-12-29T16:34:16.517948Z"
    },
    "papermill": {
     "duration": 12.223576,
     "end_time": "2020-12-29T16:34:16.519742",
     "exception": false,
     "start_time": "2020-12-29T16:34:04.296166",
     "status": "completed"
    },
    "tags": []
   },
   "outputs": [],
   "source": [
    "predictions_cnn = cnn.predict_classes(pred_test_data)"
   ]
  },
  {
   "cell_type": "code",
   "execution_count": 18,
   "metadata": {
    "execution": {
     "iopub.execute_input": "2020-12-29T16:34:36.048782Z",
     "iopub.status.busy": "2020-12-29T16:34:36.048033Z",
     "iopub.status.idle": "2020-12-29T16:34:36.561609Z",
     "shell.execute_reply": "2020-12-29T16:34:36.559893Z"
    },
    "papermill": {
     "duration": 10.411931,
     "end_time": "2020-12-29T16:34:36.561739",
     "exception": false,
     "start_time": "2020-12-29T16:34:26.149808",
     "status": "completed"
    },
    "tags": []
   },
   "outputs": [],
   "source": [
    "submit_cnn = pd.DataFrame({'ImageId':range(1,len(predictions_cnn)+1),'Label':predictions_cnn})\n",
    "\n",
    "submit_cnn.to_csv('submission_cnn.csv',index=False)\n"
   ]
  }
 ],
 "metadata": {
  "kernelspec": {
   "display_name": "Python 3",
   "language": "python",
   "name": "python3"
  },
  "language_info": {
   "codemirror_mode": {
    "name": "ipython",
    "version": 3
   },
   "file_extension": ".py",
   "mimetype": "text/x-python",
   "name": "python",
   "nbconvert_exporter": "python",
   "pygments_lexer": "ipython3",
   "version": "3.7.6"
  },
  "papermill": {
   "duration": 1668.490903,
   "end_time": "2020-12-29T16:34:48.561482",
   "environment_variables": {},
   "exception": null,
   "input_path": "__notebook__.ipynb",
   "output_path": "__notebook__.ipynb",
   "parameters": {},
   "start_time": "2020-12-29T16:07:00.070579",
   "version": "2.1.0"
  }
 },
 "nbformat": 4,
 "nbformat_minor": 4
}
